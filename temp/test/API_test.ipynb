{
 "cells": [
  {
   "cell_type": "code",
   "execution_count": 5,
   "id": "7f089d4e",
   "metadata": {},
   "outputs": [
    {
     "name": "stdout",
     "output_type": "stream",
     "text": [
      "📦 [9700] 응답 키 목록: dict_keys(['response'])\n",
      "✅ 유효함: 9700 (ID: 219000026)\n",
      "📦 [3200] 응답 키 목록: dict_keys(['response'])\n",
      "✅ 유효함: 3200 (ID: 218000005)\n",
      "📦 [9202] 응답 키 목록: dict_keys(['response'])\n",
      "✅ 유효함: 9202 (ID: 227000035)\n",
      "📦 [340-2] 응답 키 목록: dict_keys(['response'])\n",
      "✅ 유효함: 340-2 (ID: 233000320)\n",
      "📦 [M4449] 응답 키 목록: dict_keys(['response'])\n",
      "✅ 유효함: M4449 (ID: 233000354)\n",
      "📦 [100] 응답 키 목록: dict_keys(['response'])\n",
      "✅ 유효함: 100 (ID: 225000004)\n",
      "📦 [8155] 응답 키 목록: dict_keys(['response'])\n",
      "✅ 유효함: 8155 (ID: 233000139)\n",
      "📦 [1000] 응답 키 목록: dict_keys(['response'])\n",
      "✅ 유효함: 1000 (ID: 233000077)\n",
      "📦 [3000] 응답 키 목록: dict_keys(['response'])\n",
      "✅ 유효함: 3000 (ID: 200000104)\n",
      "📦 [M5556] 응답 키 목록: dict_keys(['response'])\n",
      "✅ 유효함: M5556 (ID: 208000068)\n",
      "📦 [G6009] 응답 키 목록: dict_keys(['response'])\n",
      "✅ 유효함: G6009 (ID: 233000322)\n",
      "📦 [G7426] 응답 키 목록: dict_keys(['response'])\n",
      "✅ 유효함: G7426 (ID: 229000111)\n",
      "📦 [11] 응답 키 목록: dict_keys(['response'])\n",
      "✅ 유효함: 11 (ID: 219000001)\n"
     ]
    },
    {
     "ename": "KeyboardInterrupt",
     "evalue": "",
     "output_type": "error",
     "traceback": [
      "\u001b[31m---------------------------------------------------------------------------\u001b[39m",
      "\u001b[31mKeyboardInterrupt\u001b[39m                         Traceback (most recent call last)",
      "\u001b[36mCell\u001b[39m\u001b[36m \u001b[39m\u001b[32mIn[5]\u001b[39m\u001b[32m, line 38\u001b[39m\n\u001b[32m     35\u001b[39m \u001b[38;5;28;01mexcept\u001b[39;00m \u001b[38;5;167;01mException\u001b[39;00m \u001b[38;5;28;01mas\u001b[39;00m e:\n\u001b[32m     36\u001b[39m     \u001b[38;5;28mprint\u001b[39m(\u001b[33mf\u001b[39m\u001b[33m\"\u001b[39m\u001b[33m❌ 오류 발생: \u001b[39m\u001b[38;5;132;01m{\u001b[39;00mroute_name\u001b[38;5;132;01m}\u001b[39;00m\u001b[33m (ID: \u001b[39m\u001b[38;5;132;01m{\u001b[39;00mroute_id\u001b[38;5;132;01m}\u001b[39;00m\u001b[33m) - \u001b[39m\u001b[38;5;132;01m{\u001b[39;00me\u001b[38;5;132;01m}\u001b[39;00m\u001b[33m\"\u001b[39m)\n\u001b[32m---> \u001b[39m\u001b[32m38\u001b[39m \u001b[43mtime\u001b[49m\u001b[43m.\u001b[49m\u001b[43msleep\u001b[49m\u001b[43m(\u001b[49m\u001b[32;43m0.5\u001b[39;49m\u001b[43m)\u001b[49m  \u001b[38;5;66;03m# 너무 빠르게 돌리지 않도록 지연\u001b[39;00m\n",
      "\u001b[31mKeyboardInterrupt\u001b[39m: "
     ]
    }
   ],
   "source": [
    "import requests\n",
    "import json\n",
    "import time\n",
    "from dotenv import load_dotenv\n",
    "import os\n",
    "\n",
    "# .env에서 API 키 불러오기\n",
    "load_dotenv()\n",
    "api_key = os.getenv(\"GBUS_API_KEY\")\n",
    "\n",
    "# base url (JSON 응답)\n",
    "base_url = \"http://apis.data.go.kr/6410000/buslocationservice/v2/getBusLocationListv2?serviceKey={}&routeId={}&format=json\"\n",
    "\n",
    "# 경로에서 json 파일 불러오기\n",
    "with open(\"./resources/crawlering_route_ids.json\", \"r\", encoding=\"utf-8\") as f:\n",
    "    route_list = json.load(f)\n",
    "\n",
    "# 하나씩 순회하면서 유효한지 확인\n",
    "for route_id, route_name in route_list:\n",
    "    url = base_url.format(api_key, route_id)\n",
    "    try:\n",
    "        res = requests.get(url, timeout=5)\n",
    "        data = res.json()\n",
    "\n",
    "        # 디버깅용 출력\n",
    "        print(f\"📦 [{route_name}] 응답 키 목록:\", data.keys())\n",
    "\n",
    "        result_code = data.get(\"response\", {}).get(\"msgHeader\", {}).get(\"resultCode\")\n",
    "        locations = data.get(\"response\", {}).get(\"msgBody\", {}).get(\"busLocationList\")\n",
    "\n",
    "        if result_code == 0 and locations:\n",
    "            print(f\"✅ 유효함: {route_name} (ID: {route_id})\")\n",
    "        else:\n",
    "            print(f\"⚠️ 무응답 or 무효: {route_name} (ID: {route_id})\")\n",
    "    except Exception as e:\n",
    "        print(f\"❌ 오류 발생: {route_name} (ID: {route_id}) - {e}\")\n",
    "\n",
    "    time.sleep(0.5)  # 너무 빠르게 돌리지 않도록 지연\n"
   ]
  },
  {
   "cell_type": "code",
   "execution_count": 2,
   "id": "68b4e1ab",
   "metadata": {},
   "outputs": [
    {
     "name": "stdout",
     "output_type": "stream",
     "text": [
      "✅ API 호출 성공!\n",
      "{\"response\":{\"comMsgHeader\":\"\",\"msgHeader\":{\"queryTime\":\"2025-04-16 09:49:58.356\",\"resultCode\":0,\"resultMessage\":\"정상적으로 처리되었습니다.\"},\"msgBody\":{\"busLocationList\":[{\"crowded\":1,\"lowPlate\":0,\"plateNo\":\"경기70바3996\",\"remainSeatCnt\":47,\"routeId\":200000120,\"routeTypeCd\":11,\"stateCd\":0,\"stationId\":201000336,\"stationSeq\":3,\"taglessCd\":1,\"vehId\":200000105},{\"crowded\":1,\"lowPlate\":0,\"plateNo\":\"경기70바3995\",\"remainSeatCnt\":40,\"routeId\":200000120,\"routeTypeCd\":11,\"stateCd\":2,\"stationId\":200000186,\"stationSeq\":14\n"
     ]
    }
   ],
   "source": [
    "import os\n",
    "import requests\n",
    "from dotenv import load_dotenv\n",
    "\n",
    "# .env 파일 로드\n",
    "load_dotenv(override=True)\n",
    "\n",
    "# 환경변수에서 API 키 가져오기\n",
    "api_key = os.getenv(\"GBUS_API_KEY\")\n",
    "\n",
    "# 테스트할 routeId (예: 2007번 버스)\n",
    "route_id = \"200000120\"\n",
    "\n",
    "# API URL 구성\n",
    "url = (\n",
    "    f\"http://apis.data.go.kr/6410000/buslocationservice/v2/getBusLocationListv2\"\n",
    "    f\"?serviceKey={api_key}&routeId={route_id}&format=json\"\n",
    ")\n",
    "\n",
    "# API 호출\n",
    "response = requests.get(url)\n",
    "\n",
    "# 응답 출력\n",
    "if response.status_code == 200:\n",
    "    print(\"✅ API 호출 성공!\")\n",
    "    print(response.text[:500])  # 너무 길면 앞부분만 출력\n",
    "else:\n",
    "    print(\"❌ 호출 실패. 상태코드:\", response.status_code)\n",
    "    print(response.text)\n"
   ]
  },
  {
   "cell_type": "code",
   "execution_count": null,
   "id": "fc78e934",
   "metadata": {},
   "outputs": [],
   "source": []
  }
 ],
 "metadata": {
  "kernelspec": {
   "display_name": "venv",
   "language": "python",
   "name": "python3"
  },
  "language_info": {
   "codemirror_mode": {
    "name": "ipython",
    "version": 3
   },
   "file_extension": ".py",
   "mimetype": "text/x-python",
   "name": "python",
   "nbconvert_exporter": "python",
   "pygments_lexer": "ipython3",
   "version": "3.13.3"
  }
 },
 "nbformat": 4,
 "nbformat_minor": 5
}
