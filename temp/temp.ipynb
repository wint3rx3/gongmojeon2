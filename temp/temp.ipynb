{
 "cells": [
  {
   "cell_type": "code",
   "execution_count": null,
   "id": "dc3da9a7",
   "metadata": {},
   "outputs": [
    {
     "name": "stdout",
     "output_type": "stream",
     "text": [
      "📄 응답 내용 미리보기:\n",
      " {\"response\":{\"comMsgHeader\":\"\",\"msgHeader\":{\"queryTime\":\"2025-04-24 23:57:31.765\",\"resultCode\":0,\"resultMessage\":\"정상적으로 처리되었습니다.\"},\"msgBody\":{\"baseInfoItem\":{\"areaDownloadUrl\":\"http:\\/\\/openapi.gbis.go.kr\\/ws\\/download?area20250424V2.txt\",\"areaVersion\":20250424,\"routeDownloadUrl\":\"http:\\/\\/openapi.gbis.go.kr\\/ws\\/download?route20250424V2.txt\",\"routeLineDownloadUrl\":\"http:\\/\\/openapi.gbis.go.kr\\/ws\\/download?routeline20250424V2.txt\",\"routeLineVersion\":20250424,\"routeStationDownloadUrl\":\"http:\\/\\/\n",
      "📥 routeDownloadUrl: http://openapi.gbis.go.kr/ws/download?route20250424V2.txt\n",
      "✅ 텍스트 파일 저장 완료: output\\route20250424V2.txt\n"
     ]
    }
   ],
   "source": [
    "import urllib.request\n",
    "import os\n",
    "from dotenv import load_dotenv\n",
    "import json\n",
    "from io import StringIO\n",
    "\n",
    "# 환경 변수 로딩\n",
    "load_dotenv()\n",
    "service_key = os.getenv(\"GBUS_API_KEY\")\n",
    "\n",
    "# Step 1. 기반정보 API 호출\n",
    "url = f\"http://apis.data.go.kr/6410000/baseinfoservice/v2/getBaseInfoItemv2?format=json&serviceKey={service_key}\"\n",
    "req = urllib.request.Request(url)\n",
    "with urllib.request.urlopen(req) as res:\n",
    "    data = res.read().decode('utf-8')\n",
    "\n",
    "    parsed = json.loads(data)\n",
    "    route_file_url = parsed['response']['msgBody']['baseInfoItem']['routeDownloadUrl']\n",
    "\n",
    "# Step 2. 노선 데이터 파일 다운로드\n",
    "route_txt = urllib.request.urlopen(route_file_url).read().decode('utf-8')\n",
    "\n",
    "# 저장 경로 지정\n",
    "output_path = os.path.join(\"output\", \"route20250424V2.txt\")\n",
    "\n",
    "# 파일로 저장\n",
    "os.makedirs(\"output\", exist_ok=True)\n",
    "with open(output_path, \"w\", encoding=\"utf-8\") as f:\n",
    "    f.write(route_txt)\n",
    "\n",
    "print(f\"✅ 텍스트 파일 저장 완료: {output_path}\")"
   ]
  },
  {
   "cell_type": "code",
   "execution_count": 3,
   "id": "dfc87afa",
   "metadata": {},
   "outputs": [
    {
     "name": "stdout",
     "output_type": "stream",
     "text": [
      "399\n",
      "✅ 저장 완료! 추출된 노선 수: 399개\n"
     ]
    }
   ],
   "source": [
    "import pandas as pd\n",
    "import json\n",
    "\n",
    "# Step 1. 텍스트 읽기\n",
    "with open('output/route20250424V2.txt', encoding='utf-8') as f:\n",
    "    raw = f.read()\n",
    "\n",
    "# Step 2. ^ 기준으로 레코드 나누기 (헤더 + 데이터)\n",
    "records = raw.strip().split('^')\n",
    "\n",
    "# Step 3. 헤더 + 상위 5개 테스트만 하려면\n",
    "# records = records[:6]  # 이건 테스트용일 때만!\n",
    "\n",
    "# Step 4. 헤더와 본문 분리\n",
    "columns = records[0].split('|')\n",
    "rows = [r.split('|') for r in records[1:] if r.strip()]\n",
    "\n",
    "# Step 5. DataFrame 생성\n",
    "df = pd.DataFrame(rows, columns=columns)\n",
    "\n",
    "# Step 6. 문자열 기준 필터링 (중요!)\n",
    "target_codes = ['11', '14']\n",
    "df_filtered = df[df['routeTypeCd'].isin(target_codes)]\n",
    "print(len(df_filtered))\n",
    "\n",
    "# Step 7. 필요한 컬럼만 추출하여 리스트로 변환\n",
    "result = df_filtered[['routeId', 'routeName']].values.tolist()\n",
    "\n",
    "# Step 8. JSON 저장\n",
    "with open('output/crawlering_route_ids.json', 'w', encoding='utf-8') as f:\n",
    "    json.dump(result, f, ensure_ascii=False, indent=2)\n",
    "\n",
    "print(f\"✅ 저장 완료! 추출된 노선 수: {len(result)}개\")\n"
   ]
  },
  {
   "cell_type": "code",
   "execution_count": 1,
   "id": "c4227dc6",
   "metadata": {},
   "outputs": [
    {
     "name": "stdout",
     "output_type": "stream",
     "text": [
      "✅ station.json 생성 완료!\n"
     ]
    }
   ],
   "source": [
    "import json\n",
    "\n",
    "# 1. 원본 파일 열기\n",
    "with open(\"temp\\경기도_BMS정류소정보.json\", \"r\", encoding=\"utf-8\") as f:\n",
    "    station_data = json.load(f)\n",
    "\n",
    "# 2. 필요한 필드만 추출해서 딕셔너리 생성\n",
    "filtered_station_dict = {\n",
    "    station[\"STTN_ID\"]: station[\"STTN_NM\"]\n",
    "    for station in station_data\n",
    "    if \"STTN_ID\" in station and \"STTN_NM\" in station\n",
    "}\n",
    "\n",
    "# 3. 새 파일로 저장\n",
    "with open(\"temp/station.json\", \"w\", encoding=\"utf-8\") as f:\n",
    "    json.dump(filtered_station_dict, f, ensure_ascii=False, indent=4)\n",
    "\n",
    "print(\"✅ station.json 생성 완료!\")"
   ]
  },
  {
   "cell_type": "code",
   "execution_count": null,
   "id": "e1a84a19",
   "metadata": {},
   "outputs": [],
   "source": []
  }
 ],
 "metadata": {
  "kernelspec": {
   "display_name": "venv",
   "language": "python",
   "name": "python3"
  },
  "language_info": {
   "codemirror_mode": {
    "name": "ipython",
    "version": 3
   },
   "file_extension": ".py",
   "mimetype": "text/x-python",
   "name": "python",
   "nbconvert_exporter": "python",
   "pygments_lexer": "ipython3",
   "version": "3.13.3"
  }
 },
 "nbformat": 4,
 "nbformat_minor": 5
}
